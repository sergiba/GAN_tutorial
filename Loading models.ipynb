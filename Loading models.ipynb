{
 "cells": [
  {
   "cell_type": "markdown",
   "id": "6e8f9e79",
   "metadata": {},
   "source": [
    "# Loading existing models\n",
    "Steps to load and test existing GAN models."
   ]
  },
  {
   "cell_type": "code",
   "execution_count": 1,
   "id": "c3866939",
   "metadata": {},
   "outputs": [],
   "source": [
    "# Packages\n",
    "import tensorflow\n",
    "from tensorflow.keras.models import load_model\n",
    "import matplotlib.pyplot as plt"
   ]
  },
  {
   "cell_type": "code",
   "execution_count": 2,
   "id": "5f4342df",
   "metadata": {},
   "outputs": [],
   "source": [
    "# Loading model\n",
    "loaded_model = load_model('MNIST_generator_long.h5', compile=False)"
   ]
  },
  {
   "cell_type": "markdown",
   "id": "74fd88d6",
   "metadata": {},
   "source": [
    "Model is ready to be used. Now we only require some noise generation and visualize the result."
   ]
  },
  {
   "cell_type": "code",
   "execution_count": 11,
   "id": "7c6b3dc6",
   "metadata": {},
   "outputs": [
    {
     "data": {
      "image/png": "[encoded data removed]",
      "text/plain": [
       "<Figure size 432x288 with 1 Axes>"
      ]
     },
     "metadata": {
      "needs_background": "light"
     },
     "output_type": "display_data"
    },
    {
     "data": {
      "image/png": "[encoded data removed]",
      "text/plain": [
       "<Figure size 432x288 with 1 Axes>"
      ]
     },
     "metadata": {
      "needs_background": "light"
     },
     "output_type": "display_data"
    }
   ],
   "source": [
    "# Some generations\n",
    "for i in range(2):\n",
    "    noise = tensorflow.random.normal([1, 100])\n",
    "    generated_image = loaded_model(noise, training=False)\n",
    "\n",
    "    plt.imshow(generated_image[0, :, :, 0], cmap='gray_r')\n",
    "    plt.show()"
   ]
  }
 ],
 "metadata": {
  "kernelspec": {
   "display_name": "Python 3 (ipykernel)",
   "language": "python",
   "name": "python3"
  },
  "language_info": {
   "codemirror_mode": {
    "name": "ipython",
    "version": 3
   },
   "file_extension": ".py",
   "mimetype": "text/x-python",
   "name": "python",
   "nbconvert_exporter": "python",
   "pygments_lexer": "ipython3",
   "version": "3.9.7"
  }
 },
 "nbformat": 4,
 "nbformat_minor": 5
}
